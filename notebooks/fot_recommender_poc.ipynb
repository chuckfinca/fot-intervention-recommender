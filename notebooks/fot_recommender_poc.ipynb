{
 "cells": [
  {
   "cell_type": "markdown",
   "id": "6508e7df",
   "metadata": {},
   "source": [
    "# Freshman On-Track (FOT) Intervention Recommender\n",
    "### A Proof-of-Concept\n",
    "\n",
    "**Goal:** To show, in just a few steps, how we can turn a description of a struggling student into a set of clear, actionable, and evidence-based strategies.\n",
    "\n",
    "This notebook demonstrates the core **Retrieval** engine that powers our recommender. It shows how the system intelligently finds the most relevant documents from a knowledge base to match a student's needs."
   ]
  },
  {
   "cell_type": "markdown",
   "id": "62c68815",
   "metadata": {},
   "source": [
    "## Step 1: Setting Up the Environment\n",
    "\n",
    "First, we need to load the project's code and install its dependencies. This cell prepares the notebook to run our custom logic.\n",
    "\n",
    "*(This notebook is designed to run in Google Colab, but the code below will also adapt to a local environment if the project files are present.)*"
   ]
  },
  {
   "cell_type": "code",
   "execution_count": 1,
   "id": "97f37783",
   "metadata": {},
   "outputs": [
    {
     "name": "stdout",
     "output_type": "stream",
     "text": [
      "📦 Setting up the environment...\n",
      "/Users/charlesfeinn/Developer/job_applications/fot-intervention-recommender/.venv/bin/python3: No module named pip\n",
      "✅ Environment is ready!\n"
     ]
    }
   ],
   "source": [
    "import sys, os, warnings, json\n",
    "from pathlib import Path\n",
    "\n",
    "# This prevents common, harmless warnings from cluttering the output.\n",
    "os.environ[\"TOKENIZERS_PARALLELISM\"] = \"false\"\n",
    "warnings.filterwarnings(\n",
    "    \"ignore\", category=FutureWarning\n",
    ")  # Suppress specific torch warning\n",
    "\n",
    "# Clones the project from GitHub if not already present.\n",
    "PROJECT_DIR = \"fot-intervention-recommender\"\n",
    "if not Path(PROJECT_DIR).is_dir():\n",
    "    print(\"🚀 Downloading project files...\")\n",
    "    !git clone -q https://github.com/chuckfinca/fot-intervention-recommender.git\n",
    "\n",
    "# Installs packages and adds the project's code to our Python path.\n",
    "print(\"📦 Setting up the environment...\")\n",
    "!{sys.executable} -m pip install -q -r {PROJECT_DIR}/requirements.txt\n",
    "sys.path.insert(0, str(Path(PROJECT_DIR) / \"src\"))\n",
    "\n",
    "# Define the project_path variable needed by the rest of the notebook\n",
    "project_path = Path(PROJECT_DIR)\n",
    "\n",
    "print(\"✅ Environment is ready!\")"
   ]
  },
  {
   "cell_type": "markdown",
   "id": "f859223d",
   "metadata": {},
   "source": [
    "## Step 2: Define the Student (The Input)\n",
    "\n",
    "Everything starts with a student. Our system takes a simple narrative summary that an educator might write. This summary describes the student's challenges in plain English. \n",
    "\n",
    "Let's use the sample profile from the project description."
   ]
  },
  {
   "cell_type": "code",
   "execution_count": 2,
   "id": "3784865f",
   "metadata": {},
   "outputs": [
    {
     "data": {
      "text/markdown": [
       "**Student Query:**\n",
       "> This student is struggling to keep up with coursework, having failed one core class and earning only 2.5 credits out of 4 credits expected for the semester. Attendance is becoming a concern at 88% for an average annual target of 90%, and they have had one behavioral incident. The student needs targeted academic and attendance support to get back on track for graduation."
      ],
      "text/plain": [
       "<IPython.core.display.Markdown object>"
      ]
     },
     "metadata": {},
     "output_type": "display_data"
    }
   ],
   "source": [
    "from IPython.display import display, Markdown\n",
    "\n",
    "student_profile = {\n",
    "    \"narrative_summary\": \"This student is struggling to keep up with coursework, \"\n",
    "    \"having failed one core class and earning only 2.5 credits out of 4 credits \"\n",
    "    \"expected for the semester. Attendance is becoming a concern at 88% for an average \"\n",
    "    \"annual target of 90%, and they have had one behavioral incident. \"\n",
    "    \"The student needs targeted academic and attendance support to get back on track for graduation.\"\n",
    "}\n",
    "\n",
    "student_query = student_profile[\"narrative_summary\"]\n",
    "\n",
    "display(Markdown(f\"**Student Query:**\\n> {student_query}\"))"
   ]
  },
  {
   "cell_type": "markdown",
   "id": "530552a8",
   "metadata": {},
   "source": [
    "## Step 3: Find Relevant Strategies (The \"Retrieval\" Step)\n",
    "\n",
    "Now, we take the student's story and find the most relevant strategies from our **Knowledge Base**—a curated library of best practices and proven interventions.\n",
    "\n",
    "This next cell will perform the core retrieval logic:\n",
    "1.  Load the pre-processed knowledge base and citation data.\n",
    "2.  Initialize the text embedding model.\n",
    "3.  Create a searchable Facebook AI Similarity Search (FAISS) vector index.\n",
    "4.  Use the student query to find the top 3 most similar interventions.\n",
    "\n",
    "The output will show the evidence-based strategies our system identified."
   ]
  },
  {
   "cell_type": "code",
   "execution_count": 4,
   "id": "8cb679b9",
   "metadata": {},
   "outputs": [
    {
     "data": {
      "text/markdown": [
       "🚀 **Starting the retrieval pipeline...**"
      ],
      "text/plain": [
       "<IPython.core.display.Markdown object>"
      ]
     },
     "metadata": {},
     "output_type": "display_data"
    },
    {
     "name": "stdout",
     "output_type": "stream",
     "text": [
      "This may take a moment as the system loads the embedding model, prepares the knowledge base, and performs the search.\n",
      "Initializing embedding model: all-MiniLM-L6-v2...\n",
      "Model initialized successfully.\n",
      "Creating embeddings for 27 chunks...\n"
     ]
    },
    {
     "data": {
      "application/vnd.jupyter.widget-view+json": {
       "model_id": "aed4d46c859d4f8a88caf88daa5a38cc",
       "version_major": 2,
       "version_minor": 0
      },
      "text/plain": [
       "Batches:   0%|          | 0/1 [00:00<?, ?it/s]"
      ]
     },
     "metadata": {},
     "output_type": "display_data"
    },
    {
     "name": "stdout",
     "output_type": "stream",
     "text": [
      "Embeddings created successfully.\n",
      "Creating FAISS index with dimension 384...\n",
      "FAISS index created with 27 vectors.\n",
      "\n",
      "Searching for top 3 interventions for query: 'This student is struggling to keep up with coursework, having failed one core cl...'\n",
      "Found 3 relevant interventions.\n",
      "✅ Successfully loaded models and retrieved the top 3 most relevant interventions from the knowledge base.\n"
     ]
    },
    {
     "data": {
      "text/markdown": [
       "### Evidence Base"
      ],
      "text/plain": [
       "<IPython.core.display.Markdown object>"
      ]
     },
     "metadata": {},
     "output_type": "display_data"
    },
    {
     "data": {
      "text/markdown": [
       "\n",
       "**Strategy: Differentiating Intervention Tiers**\n",
       "- **Source:** *Freshman On‑Track Toolkit (2nd Edition)* (Network for College Success, 2017).\n",
       "- **Page(s):** Pages: 46\n",
       "- **Relevance Score:** 0.57\n",
       "- **Content Snippet:**\n",
       "> To what degree is attendance playing a role in student performance? To whom do you refer Tier 3 students who have serious attendance issues (inside and outside of the school) so that the Success Team can really concentrate on supporting Tier 2 students?\n",
       "\n",
       "---\n"
      ],
      "text/plain": [
       "<IPython.core.display.Markdown object>"
      ]
     },
     "metadata": {},
     "output_type": "display_data"
    },
    {
     "data": {
      "text/markdown": [
       "\n",
       "**Tool: Intervention Tracking**\n",
       "- **Source:** *Freshman On‑Track Toolkit (2nd Edition)* (Network for College Success, 2017).\n",
       "- **Page(s):** Pages: 49\n",
       "- **Relevance Score:** 0.54\n",
       "- **Content Snippet:**\n",
       "> Features of Good Intervention Tracking Tools:\n",
       "> • Name of the intervention and what key performance indicator it addresses (attendance, point-in-time On-Track rates, GPA, behavior metric, etc.)\n",
       "> • Names of the targeted students\n",
       ">   ° If tracking grades, include each core course's average expressed as a percentage\n",
       "> • Intervention contacts/implementation evidence\n",
       ">   ° Tutoring attendance\n",
       ">   ° Mentorship contact dates\n",
       ">   ° \"Office hours\" visits\n",
       "> • Point-in-time progress on the key performance indicator impacted by the intervention\n",
       ">   ° Should include at least 2 checkpoints within a 10-week period\n",
       ">   ° If tracking grades, provide an average expressed as a percentage for each core course\n",
       ">   ° If tracking attendance, provide number of cumulative absences and/or tardies\n",
       "\n",
       "---\n"
      ],
      "text/plain": [
       "<IPython.core.display.Markdown object>"
      ]
     },
     "metadata": {},
     "output_type": "display_data"
    },
    {
     "data": {
      "text/markdown": [
       "\n",
       "**Tool: BAG Report (Example)**\n",
       "- **Source:** *Freshman On‑Track Toolkit (2nd Edition)* (Network for College Success, 2017).\n",
       "- **Page(s):** Pages: 61\n",
       "- **Relevance Score:** 0.53\n",
       "- **Content Snippet:**\n",
       "> Student: Keith\n",
       "> Grade Level: 9\n",
       "> 8th Period Teacher: Donson\n",
       "> The numbers below reflect totals through Semester 1\n",
       "> \n",
       "> BEHAVIOR - In what ways do I contribute to a Safe and Respectful school climate?\n",
       "> • # of Infractions (# of Major Infractions): 5 (1)\n",
       "> • # of Days of In-School-Suspension (ISS): 10\n",
       "> • # of Days of Out-of-School-Suspension (OSS): 0\n",
       "> If I have any questions regarding my misconducts, I should schedule an appointment with the Dean of Discipline.\n",
       "> \n",
       "> ATTENDANCE - Do my actions reflect the real me?\n",
       "> • Days Enrolled: 80\n",
       "> • Days Present: 73\n",
       "> • Days Absent: 7\n",
       "> • My Year-to-Date Attendance Rate is 91%\n",
       "> If I have any questions regarding my attendance, I should schedule an appointment with the Attendance Dean.\n",
       "> \n",
       "> GRADES - How am I doing academically in my classes? Do my grades represent my true ability?\n",
       "> Period | Courses | Teacher | Grade\n",
       "> P1 | Algebra 1 | Flint | D\n",
       "> P2 | English 1 | Lemon | B\n",
       "> P3 | World Studies | Moeller | C\n",
       "> P4 | PE I-Health | Spann | A\n",
       "> P5 | Lunch | | \n",
       "> P6 | Science | Tyson | D\n",
       "> P7 | Photography | McCain | B\n",
       "> P8 | Intro to Comp | Penny | A\n",
       "> \n",
       "> My Estimated GPA is 2.57\n",
       "> (this estimate does NOT include any previous semesters)\n",
       "> \n",
       "> If I have any questions regarding my grade in a course, I should schedule an appointment with my Teacher.\n",
       "\n",
       "---\n"
      ],
      "text/plain": [
       "<IPython.core.display.Markdown object>"
      ]
     },
     "metadata": {},
     "output_type": "display_data"
    }
   ],
   "source": [
    "display(Markdown(\"🚀 **Starting the retrieval pipeline...**\"))\n",
    "print(\"This may take a moment as the system loads the embedding model, prepares the knowledge base, and performs the search.\")\n",
    "\n",
    "from fot_recommender.rag_pipeline import (\n",
    "    load_knowledge_base,\n",
    "    initialize_embedding_model,\n",
    "    create_embeddings,\n",
    "    create_vector_db,\n",
    "    search_interventions,\n",
    ")\n",
    "from fot_recommender.utils import display_recommendations\n",
    "\n",
    "# 1. Load data\n",
    "kb_path = project_path / \"data\" / \"processed\" / \"knowledge_base_final_chunks.json\"\n",
    "citations_path = project_path / \"data\" / \"processed\" / \"citations.json\"\n",
    "knowledge_base_chunks = load_knowledge_base(str(kb_path))\n",
    "with open(citations_path, \"r\") as f:\n",
    "    citations_map = {item[\"source_document\"]: item for item in json.load(f)}\n",
    "\n",
    "# 2. Initialize models and DB (quietly)\n",
    "embedding_model = initialize_embedding_model()\n",
    "embeddings = create_embeddings(knowledge_base_chunks, embedding_model)\n",
    "vector_db = create_vector_db(embeddings)\n",
    "\n",
    "# 3. Perform search (quietly)\n",
    "retrieved_interventions = search_interventions(\n",
    "    query=student_query,\n",
    "    model=embedding_model,\n",
    "    index=vector_db,\n",
    "    knowledge_base=knowledge_base_chunks,\n",
    "    k=3,\n",
    "    min_similarity_score=0.4,\n",
    ")\n",
    "\n",
    "# 4. Display a clean summary and the rich results\n",
    "print(\n",
    "    f\"✅ Successfully loaded models and retrieved the top {len(retrieved_interventions)} most relevant interventions from the knowledge base.\"\n",
    ")\n",
    "display_recommendations(retrieved_interventions, citations_map)"
   ]
  },
  {
   "cell_type": "markdown",
   "id": "2202209d",
   "metadata": {},
   "source": [
    "## Step 4: See the Full System in the Live Demo!\n",
    "\n",
    "You've just seen the core **Retrieval** engine at work. The system successfully took a student's story and identified the most relevant, evidence-based strategies from our knowledge base.\n",
    "\n",
    "The final step in our RAG pipeline is **Generation**, where we use a Large Language Model to synthesize this evidence into a clear, actionable recommendation for an educator. This step requires a secure API key, so we've hosted it in an interactive web application.\n",
    "\n",
    "Click the link below to see the full system in action. You can use the student narrative from this notebook or try your own!\n",
    "\n",
    "### [👉 Click Here to Launch the Live FOT Recommender API](https://huggingface.co/spaces/chuckfinca/fot-recommender-api)"
   ]
  }
 ],
 "metadata": {
  "kernelspec": {
   "display_name": "Python 3 (ipykernel)",
   "language": "python",
   "name": "python3"
  },
  "language_info": {
   "codemirror_mode": {
    "name": "ipython",
    "version": 3
   },
   "file_extension": ".py",
   "mimetype": "text/x-python",
   "name": "python",
   "nbconvert_exporter": "python",
   "pygments_lexer": "ipython3",
   "version": "3.12.8"
  }
 },
 "nbformat": 4,
 "nbformat_minor": 5
}
