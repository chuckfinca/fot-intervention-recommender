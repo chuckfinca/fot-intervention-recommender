{
 "cells": [
  {
   "cell_type": "markdown",
   "id": "6508e7df",
   "metadata": {},
   "source": [
    "# Freshman On-Track (FOT) Intervention Recommender\n",
    "### A Standalone Proof-of-Concept\n",
    "\n",
    "**Goal:** To show, in a few simple steps, how we can turn a description of a struggling student into a set of clear, actionable, and evidence-based recommendations for an educator.\n",
    "\n",
    "This notebook demonstrates the core Retrieval-Augmented Generation (RAG) pipeline that powers our recommender."
   ]
  },
  {
   "cell_type": "markdown",
   "id": "62c68815",
   "metadata": {},
   "source": [
    "## Step 1: Setting Up the Environment\n",
    "\n",
    "First, we need to load the project's code and install its dependencies. This cell prepares the notebook to run our custom logic.\n",
    "\n",
    "*(This notebook is designed to run in Google Colab, but the code below will also adapt to a local environment if the project files are present.)*"
   ]
  },
  {
   "cell_type": "code",
   "execution_count": 8,
   "id": "97f37783",
   "metadata": {},
   "outputs": [
    {
     "name": "stdout",
     "output_type": "stream",
     "text": [
      "📦 Setting up the environment...\n",
      "/Users/charlesfeinn/Developer/job_applications/fot-intervention-recommender/.venv/bin/python3: No module named pip\n",
      "✅ Environment is ready!\n"
     ]
    }
   ],
   "source": [
    "import sys, os, warnings\n",
    "from pathlib import Path\n",
    "from tqdm import TqdmWarning\n",
    "\n",
    "# This prevents common, harmless warnings from cluttering the output.\n",
    "os.environ[\"TOKENIZERS_PARALLELISM\"] = \"false\"\n",
    "warnings.filterwarnings(\"ignore\", category=TqdmWarning)\n",
    "\n",
    "# Clones the project from GitHub, but only if it doesn't already exist.\n",
    "PROJECT_DIR = \"fot-intervention-recommender\"\n",
    "if not Path(PROJECT_DIR).is_dir():\n",
    "    print(\"🚀 Downloading project files...\")\n",
    "    !git clone -q https://github.com/chuckfinca/fot-intervention-recommender.git\n",
    "\n",
    "# Installs packages and adds the project's code to our Python path.\n",
    "print(\"📦 Setting up the environment...\")\n",
    "!{sys.executable} -m pip install -q -r {PROJECT_DIR}/requirements.txt\n",
    "sys.path.insert(0, str(Path(PROJECT_DIR) / \"src\"))\n",
    "\n",
    "# Define the project_path variable needed by the rest of the notebook\n",
    "project_path = Path(PROJECT_DIR)\n",
    "\n",
    "print(\"✅ Environment is ready!\")"
   ]
  },
  {
   "cell_type": "markdown",
   "id": "f859223d",
   "metadata": {},
   "source": [
    "## Step 2: Define the Student (The Input)\n",
    "\n",
    "Everything starts with a student. Our system takes a simple narrative summary that an educator might write. This summary describes the student's challenges in plain English. \n",
    "\n",
    "Let's use the sample profile from the project description."
   ]
  },
  {
   "cell_type": "code",
   "execution_count": 2,
   "id": "3784865f",
   "metadata": {},
   "outputs": [
    {
     "data": {
      "text/markdown": [
       "**Student Query:**\n",
       "> This student is struggling to keep up with coursework, having failed one core class and earning only 2.5 credits out of 4 credits expected for the semester. Attendance is becoming a concern at 88% for an average annual target of 90%, and they have had one behavioral incident. The student needs targeted academic and attendance support to get back on track for graduation."
      ],
      "text/plain": [
       "<IPython.core.display.Markdown object>"
      ]
     },
     "metadata": {},
     "output_type": "display_data"
    }
   ],
   "source": [
    "from IPython.display import display, Markdown\n",
    "\n",
    "student_profile = {\n",
    "    \"narrative_summary\": \"This student is struggling to keep up with coursework, \"\n",
    "    \"having failed one core class and earning only 2.5 credits out of 4 credits \"\n",
    "    \"expected for the semester. Attendance is becoming a concern at 88% for an average \"\n",
    "    \"annual target of 90%, and they have had one behavioral incident. \"\n",
    "    \"The student needs targeted academic and attendance support to get back on track for graduation.\"\n",
    "}\n",
    "\n",
    "student_query = student_profile[\"narrative_summary\"]\n",
    "\n",
    "display(Markdown(f\"**Student Query:**\\n> {student_query}\"))"
   ]
  },
  {
   "cell_type": "markdown",
   "id": "530552a8",
   "metadata": {},
   "source": [
    "## Step 3: Find Relevant Strategies (The \"Retrieval\" Step)\n",
    "\n",
    "Now, we take the student's story and find the most relevant strategies from our **Knowledge Base**—a curated library of best practices and proven interventions.\n",
    "\n",
    "How do we do this? \n",
    "1.  We've already converted our knowledge base documents into **vector embeddings** (unique digital fingerprints that capture meaning).\n",
    "2.  We use a **FAISS vector database**—a super-fast search index—to instantly find the documents with fingerprints most similar to the student's situation.\n",
    "\n",
    "Let's see which top 3 strategies our system retrieves for this student."
   ]
  },
  {
   "cell_type": "code",
   "execution_count": 3,
   "id": "8cb679b9",
   "metadata": {},
   "outputs": [
    {
     "name": "stderr",
     "output_type": "stream",
     "text": [
      "/Users/charlesfeinn/Developer/job_applications/fot-intervention-recommender/.venv/lib/python3.12/site-packages/tqdm/auto.py:21: TqdmWarning: IProgress not found. Please update jupyter and ipywidgets. See https://ipywidgets.readthedocs.io/en/stable/user_install.html\n",
      "  from .autonotebook import tqdm as notebook_tqdm\n"
     ]
    },
    {
     "name": "stdout",
     "output_type": "stream",
     "text": [
      "Initializing embedding model: all-MiniLM-L6-v2...\n",
      "Model initialized successfully.\n",
      "Creating embeddings for 27 chunks...\n"
     ]
    },
    {
     "name": "stderr",
     "output_type": "stream",
     "text": [
      "Batches:   0%|                                            | 0/1 [00:00<?, ?it/s]/Users/charlesfeinn/Developer/job_applications/fot-intervention-recommender/.venv/lib/python3.12/site-packages/torch/nn/modules/module.py:1520: FutureWarning: `encoder_attention_mask` is deprecated and will be removed in version 4.55.0 for `BertSdpaSelfAttention.forward`.\n",
      "  return forward_call(*args, **kwargs)\n",
      "Batches: 100%|████████████████████████████████████| 1/1 [00:02<00:00,  2.08s/it]\n"
     ]
    },
    {
     "name": "stdout",
     "output_type": "stream",
     "text": [
      "Embeddings created successfully.\n",
      "Creating FAISS index with dimension 384...\n",
      "FAISS index created with 27 vectors.\n",
      "\n",
      "Searching for top 3 interventions for query: 'This student is struggling to keep up with coursework, having failed one core cl...'\n",
      "Found 3 relevant interventions.\n"
     ]
    },
    {
     "data": {
      "text/markdown": [
       "**Top 3 Retrieved Strategies:**"
      ],
      "text/plain": [
       "<IPython.core.display.Markdown object>"
      ]
     },
     "metadata": {},
     "output_type": "display_data"
    },
    {
     "data": {
      "text/markdown": [
       "- **Strategy: Differentiating Intervention Tiers** (Source: *NCS_OTToolkit_2ndEd_October_2017_updated.pdf*, Relevance: 0.57)"
      ],
      "text/plain": [
       "<IPython.core.display.Markdown object>"
      ]
     },
     "metadata": {},
     "output_type": "display_data"
    },
    {
     "data": {
      "text/markdown": [
       "- **Tool: Intervention Tracking** (Source: *NCS_OTToolkit_2ndEd_October_2017_updated.pdf*, Relevance: 0.54)"
      ],
      "text/plain": [
       "<IPython.core.display.Markdown object>"
      ]
     },
     "metadata": {},
     "output_type": "display_data"
    },
    {
     "data": {
      "text/markdown": [
       "- **Tool: BAG Report (Example)** (Source: *NCS_OTToolkit_2ndEd_October_2017_updated.pdf*, Relevance: 0.53)"
      ],
      "text/plain": [
       "<IPython.core.display.Markdown object>"
      ]
     },
     "metadata": {},
     "output_type": "display_data"
    }
   ],
   "source": [
    "# Import the necessary functions from our project's code\n",
    "from fot_recommender.rag_pipeline import (\n",
    "    load_knowledge_base,\n",
    "    initialize_embedding_model,\n",
    "    create_embeddings,\n",
    "    create_vector_db,\n",
    "    search_interventions,\n",
    "    generate_recommendation_summary\n",
    ")\n",
    "from fot_recommender.utils import display_recommendations\n",
    "\n",
    "# --- Load all the components of our RAG system ---\n",
    "\n",
    "# 1. Load the chunked knowledge base\n",
    "kb_path = project_path / \"data\" / \"processed\" / \"knowledge_base_final_chunks.json\"\n",
    "knowledge_base_chunks = load_knowledge_base(str(kb_path))\n",
    "\n",
    "# 2. Initialize the embedding model\n",
    "embedding_model = initialize_embedding_model()\n",
    "\n",
    "# 3. Create embeddings and the vector database\n",
    "embeddings = create_embeddings(knowledge_base_chunks, embedding_model)\n",
    "vector_db = create_vector_db(embeddings)\n",
    "\n",
    "# --- Perform the search! ---\n",
    "retrieved_interventions = search_interventions(\n",
    "    query=student_query,\n",
    "    model=embedding_model,\n",
    "    index=vector_db,\n",
    "    knowledge_base=knowledge_base_chunks,\n",
    "    k=3,\n",
    "    min_similarity_score=0.4\n",
    ")\n",
    "\n",
    "# Display the titles of what we found\n",
    "display(Markdown(\"**Top 3 Retrieved Strategies:**\"))\n",
    "for chunk, score in retrieved_interventions:\n",
    "    display(Markdown(f\"- **{chunk['title']}** (Source: *{chunk['source_document']}*, Relevance: {score:.2f})\"))"
   ]
  },
  {
   "cell_type": "markdown",
   "id": "2202209d",
   "metadata": {},
   "source": [
    "## Step 4: Create the Recommendation (The \"Generation\" Step)\n",
    "\n",
    "Finding the right documents is only half the battle. Raw research isn't very helpful to a busy teacher. \n",
    "\n",
    "In this final step, we use a powerful Large Language Model (Google's Gemini API) to act as an expert instructional coach. We give it the student's story and the relevant strategies we just retrieved. The AI's job is to **synthesize** this information into a concise, practical recommendation tailored specifically for a teacher.\n",
    "\n",
    "This is the final output of our system."
   ]
  },
  {
   "cell_type": "code",
   "execution_count": 4,
   "id": "62ee35bc",
   "metadata": {},
   "outputs": [
    {
     "name": "stdout",
     "output_type": "stream",
     "text": [
      "\n",
      "Synthesizing recommendation for persona: 'teacher' using Gemini...\n",
      "Synthesis complete.\n"
     ]
    },
    {
     "data": {
      "text/markdown": [
       "### Final Synthesized Recommendation for the Teacher"
      ],
      "text/plain": [
       "<IPython.core.display.Markdown object>"
      ]
     },
     "metadata": {},
     "output_type": "display_data"
    },
    {
     "data": {
      "text/markdown": [
       "This student is experiencing academic difficulty, reflected in a 2.5 GPA and a failing grade in one core class, coupled with attendance concerns (88% attendance versus a 90% target) and one behavioral incident.  To address these challenges and support the student's path to graduation, the following interventions are recommended:\n",
       "\n",
       "\n",
       "**1. Implement a Tiered Intervention Strategy:**  Determine the extent to which attendance is contributing to the student's academic struggles. (\"Strategy: Differentiating Intervention Tiers\").  If attendance is a significant factor,  refer the student to the appropriate support services (Success Team or Attendance Dean, as indicated by the BAG Report format) to address these issues directly. This allows more focused support from the teaching staff for academic interventions.\n",
       "\n",
       "**2. Utilize a Robust Intervention Tracking System:**  Implement a system to monitor the student's progress, focusing on attendance, GPA, and behavior. (\"Tool: Intervention Tracking\").  This system should clearly document interventions (e.g., tutoring sessions, mentorship meetings), and track the student’s progress in each core course (GPA and attendance rates) at two checkpoints within a ten-week period. The \"BAG Report\" format provides a useful template to track behavior, attendance and grades. This data will inform adjustments to the support plan.\n",
       "\n",
       "**3.  Regularly Review the Student's \"BAG Report\" (or Equivalent):**  Use a reporting mechanism (such as the BAG report example) to regularly review the student's performance across all three key areas: Behavior, Attendance, and Grades. This visual representation highlights areas of strength and areas requiring immediate intervention, allowing for proactive adjustments to support strategies. This aligns with the recommendation to monitor multiple key performance indicators to improve student outcomes effectively.\n"
      ],
      "text/plain": [
       "<IPython.core.display.Markdown object>"
      ]
     },
     "metadata": {},
     "output_type": "display_data"
    }
   ],
   "source": [
    "from dotenv import load_dotenv\n",
    "\n",
    "# Load the API key from a .env file (if it exists)\n",
    "load_dotenv(project_path / '.env') \n",
    "api_key = os.getenv(\"FOT_GOOGLE_API_KEY\")\n",
    "\n",
    "if not api_key:\n",
    "    print(\"✋ FOT_GOOGLE_API_KEY not found. Please provide your Google API key to generate the summary.\")\n",
    "    final_recommendation = \"(API Key not provided - could not generate summary)\"\n",
    "else:\n",
    "    final_recommendation = generate_recommendation_summary(\n",
    "        retrieved_chunks=retrieved_interventions,\n",
    "        student_narrative=student_query,\n",
    "        api_key=api_key,\n",
    "        persona=\"teacher\"\n",
    "    )\n",
    "\n",
    "display(Markdown(\"### Final Synthesized Recommendation for the Teacher\"))\n",
    "display(Markdown(final_recommendation))"
   ]
  },
  {
   "cell_type": "markdown",
   "id": "d3718297",
   "metadata": {},
   "source": [
    "## Bonus: See the Evidence\n",
    "\n",
    "The recommendation above isn't just made up—it's directly grounded in the documents we retrieved. Here are the specific text snippets that the AI used to create its summary. This ensures our recommendations are always transparent and evidence-based."
   ]
  },
  {
   "cell_type": "code",
   "execution_count": 5,
   "id": "1b0cb720",
   "metadata": {},
   "outputs": [
    {
     "name": "stdout",
     "output_type": "stream",
     "text": [
      "\n",
      "--- Top Recommended Interventions ---\n",
      "\n",
      "--- Recommendation 1 (Similarity Score: 0.5735) ---\n",
      "  Title: Strategy: Differentiating Intervention Tiers\n",
      "  Source: NCS_OTToolkit_2ndEd_October_2017_updated.pdf (Pages: 46)\n",
      "  \n",
      "  Content Snippet:\n",
      "  \"To what degree is attendance playing a role in student performance? To whom do you refer Tier 3 students who have serious attendance issues (inside and outside of the school) so that the Success Team can really concentrate on supporting Tier 2 students?...\"\n",
      "--------------------------------------------------\n",
      "\n",
      "--- Recommendation 2 (Similarity Score: 0.5416) ---\n",
      "  Title: Tool: Intervention Tracking\n",
      "  Source: NCS_OTToolkit_2ndEd_October_2017_updated.pdf (Pages: 49)\n",
      "  \n",
      "  Content Snippet:\n",
      "  \"Features of Good Intervention Tracking Tools:\n",
      "  • Name of the intervention and what key performance indicator it addresses (attendance, point-in-time On-Track rates, GPA, behavior metric, etc.)\n",
      "  • Names of the targeted students\n",
      "    ° If tracking grades, include each core course's average expressed as a percentage\n",
      "  • Intervention contacts/implementation evidence\n",
      "    ° Tutoring attendance\n",
      "    ° Mentorship contact dates\n",
      "    ° \"Office hours\" visits\n",
      "  • Point-in-time progress on the key performance...\"\n",
      "--------------------------------------------------\n",
      "\n",
      "--- Recommendation 3 (Similarity Score: 0.5328) ---\n",
      "  Title: Tool: BAG Report (Example)\n",
      "  Source: NCS_OTToolkit_2ndEd_October_2017_updated.pdf (Pages: 61)\n",
      "  \n",
      "  Content Snippet:\n",
      "  \"Student: Keith\n",
      "  Grade Level: 9\n",
      "  8th Period Teacher: Donson\n",
      "  The numbers below reflect totals through Semester 1\n",
      "  \n",
      "  BEHAVIOR - In what ways do I contribute to a Safe and Respectful school climate?\n",
      "  • # of Infractions (# of Major Infractions): 5 (1)\n",
      "  • # of Days of In-School-Suspension (ISS): 10\n",
      "  • # of Days of Out-of-School-Suspension (OSS): 0\n",
      "  If I have any questions regarding my misconducts, I should schedule an appointment with the Dean of Discipline.\n",
      "  \n",
      "  ATTENDANCE - Do my actions r...\"\n",
      "--------------------------------------------------\n"
     ]
    }
   ],
   "source": [
    "display_recommendations(retrieved_interventions)"
   ]
  },
  {
   "cell_type": "markdown",
   "id": "254d4cdf",
   "metadata": {},
   "source": [
    "## Explore the Live Demo!\n",
    "\n",
    "You've seen the step-by-step process of how our RAG system turns a student's story into an actionable, evidence-based plan. Now, it's time to try it yourself with any student scenario you can imagine!\n",
    "\n",
    "We have deployed this entire system as an interactive web application on Hugging Face Spaces. Click the link below to access the live demo—no setup or API key required.\n",
    "\n",
    "\n",
    "#### [👉 Click Here to Launch the Live FOT Recommender API](https://huggingface.co/spaces/chuckfinca/fot-recommender-api)\n"
   ]
  },
  {
   "cell_type": "code",
   "execution_count": null,
   "id": "64867bc5-2762-4c69-aa72-e4e7cf911019",
   "metadata": {},
   "outputs": [],
   "source": []
  }
 ],
 "metadata": {
  "kernelspec": {
   "display_name": "Python 3 (ipykernel)",
   "language": "python",
   "name": "python3"
  },
  "language_info": {
   "codemirror_mode": {
    "name": "ipython",
    "version": 3
   },
   "file_extension": ".py",
   "mimetype": "text/x-python",
   "name": "python",
   "nbconvert_exporter": "python",
   "pygments_lexer": "ipython3",
   "version": "3.12.8"
  }
 },
 "nbformat": 4,
 "nbformat_minor": 5
}
